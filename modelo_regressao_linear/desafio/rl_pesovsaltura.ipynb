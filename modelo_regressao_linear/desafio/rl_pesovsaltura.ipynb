{
 "cells": [
  {
   "cell_type": "markdown",
   "metadata": {},
   "source": [
    "# Crie um modelo de regressão linear para prever o peso PRÁTICA 3.1\n",
    "### À semelhança do que foi feito na lição \"Seu primeiro modelo: regressão linear\", você vai criar um modelo que, com base na altura de uma pessoa (em metros), deve prever o peso (em Kg).\n",
    "\n",
    "- Crie um novo arquivo CSV semelhante ao arquivo Celsius/Fahrenheit, só que ele conterá dados de altura e peso.\n",
    "- Insira pelo menos 10 registros de altura e seu peso correspondente. Eles podem ser dados de sua família, amigos ou da Internet.\n",
    "- Treine o modelo de regressão linear, como na lição \"Seu primeiro modelo: regressão linear\".\n",
    "- Uma vez treinado, ele tenta fazer previsões, inserindo uma altura e retorna o peso estimado.\n",
    "- Funciona bem ou não? Por que você acha que é assim?"
   ]
  },
  {
   "cell_type": "code",
   "execution_count": 44,
   "metadata": {},
   "outputs": [],
   "source": [
    "import pandas as pd \n",
    "dados = pd.read_csv(\"pesovsaltura.csv\")\n",
    "\n",
    "#CSV importado do kaggle: https://www.kaggle.com/datasets/yersever/500-person-gender-height-weight-bodymassindex\n",
    "dados2 = pd.read_csv(\"500_Person_Gender_Height_Weight_Index.csv\")"
   ]
  },
  {
   "cell_type": "code",
   "execution_count": 46,
   "metadata": {},
   "outputs": [],
   "source": [
    "#Caracteristicas (x), etiquetas (y)\n",
    "X = dados['peso']\n",
    "Y = dados['altura']\n",
    "\n",
    "X2 = dados2['Weight']\n",
    "Y2 = dados2['Height']\n",
    "\n",
    "#Processando x e y -> [[x/y]]\n",
    "x_processado = X.values.reshape(-1,1)\n",
    "y_processado = Y.values.reshape(-1,1)\n",
    "\n",
    "x_processado2 = X2.values.reshape(-1,1)\n",
    "y_processado2 = Y2.values.reshape(-1,1)"
   ]
  },
  {
   "cell_type": "code",
   "execution_count": 47,
   "metadata": {},
   "outputs": [
    {
     "data": {
      "text/plain": [
       "LinearRegression()"
      ]
     },
     "execution_count": 47,
     "metadata": {},
     "output_type": "execute_result"
    }
   ],
   "source": [
    "from sklearn.linear_model import LinearRegression\n",
    "\n",
    "modelo = LinearRegression()\n",
    "modelo2 = LinearRegression()\n",
    "\n",
    "modelo.fit(x_processado, y_processado)\n",
    "modelo2.fit(x_processado2, y_processado2)\n"
   ]
  },
  {
   "cell_type": "code",
   "execution_count": 48,
   "metadata": {},
   "outputs": [
    {
     "name": "stdout",
     "output_type": "stream",
     "text": [
      "Case 1 - dados aleatorios: 60 kg -> 1.65 m\n",
      "Case 2 - dados reais (from kaggle): 60 kg -> 1.6993362673047079 m\n"
     ]
    }
   ],
   "source": [
    "#Prediccoes\n",
    "\n",
    "peso = 60\n",
    "prediccao_altura = modelo.predict([[peso]])\n",
    "prediccao_altura2 = modelo2.predict([[peso]])\n",
    "\n",
    "print(f'Case 1 - dados aleatorios: {peso} kg -> {prediccao_altura[0][0]} m')\n",
    "print(f'Case 2 - dados reais (from kaggle): {peso} kg -> {prediccao_altura2[0][0] / 100} m')"
   ]
  },
  {
   "cell_type": "code",
   "execution_count": 49,
   "metadata": {},
   "outputs": [
    {
     "name": "stdout",
     "output_type": "stream",
     "text": [
      "Case 1 - dados aleatorios: 1.0\n",
      "Case 2 - dados reais (from kaggle): 1.9886705759919465e-07\n"
     ]
    }
   ],
   "source": [
    "#Avaliando a precisao do modelo\n",
    "#de 0 a 1 (excelente)\n",
    "avaliacao = modelo.score(x_processado, y_processado)\n",
    "avaliacao2 = modelo2.score(x_processado2, y_processado2)\n",
    "\n",
    "print(f'Case 1 - dados aleatorios: {avaliacao}')\n",
    "print(f'Case 2 - dados reais (from kaggle): {avaliacao2}')"
   ]
  }
 ],
 "metadata": {
  "kernelspec": {
   "display_name": "base",
   "language": "python",
   "name": "python3"
  },
  "language_info": {
   "codemirror_mode": {
    "name": "ipython",
    "version": 3
   },
   "file_extension": ".py",
   "mimetype": "text/x-python",
   "name": "python",
   "nbconvert_exporter": "python",
   "pygments_lexer": "ipython3",
   "version": "3.9.13"
  }
 },
 "nbformat": 4,
 "nbformat_minor": 2
}
